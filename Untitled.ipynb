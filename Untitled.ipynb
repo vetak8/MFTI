{
 "cells": [
  {
   "cell_type": "code",
   "execution_count": 4,
   "id": "eba05a26",
   "metadata": {},
   "outputs": [],
   "source": [
    "def process(sentences):\n",
    "    result =[]\n",
    "    for i in sentences:\n",
    "        string = str()\n",
    "        for j in i.split():\n",
    "        \n",
    "            if j.isalpha():\n",
    "                string += j + ' '\n",
    "            \n",
    "            else:            \n",
    "                string += ''\n",
    "        result.append(string[:-1])\n",
    "    return result"
   ]
  },
  {
   "cell_type": "code",
   "execution_count": 7,
   "id": "8ff58cf9",
   "metadata": {},
   "outputs": [],
   "source": [
    "x = ['1 thousand devils', 'My name is 9Pasha', 'Room #125 costs $100', '888']"
   ]
  },
  {
   "cell_type": "code",
   "execution_count": 10,
   "id": "bdf95538",
   "metadata": {},
   "outputs": [
    {
     "data": {
      "text/plain": [
       "True"
      ]
     },
     "execution_count": 10,
     "metadata": {},
     "output_type": "execute_result"
    }
   ],
   "source": [
    "process(x) == ['thousand devils', 'My name is', 'Room costs', '']"
   ]
  },
  {
   "cell_type": "code",
   "execution_count": 9,
   "id": "11fa29dd",
   "metadata": {},
   "outputs": [
    {
     "data": {
      "text/plain": [
       "['thousand devils', 'My name is', 'Room costs', '']"
      ]
     },
     "execution_count": 9,
     "metadata": {},
     "output_type": "execute_result"
    }
   ],
   "source": [
    "['thousand devils', 'My name is', 'Room costs', '']"
   ]
  },
  {
   "cell_type": "code",
   "execution_count": 14,
   "id": "a449627d",
   "metadata": {},
   "outputs": [],
   "source": [
    "a = ['aaa']+['sss']"
   ]
  },
  {
   "cell_type": "code",
   "execution_count": 15,
   "id": "7f63e5ee",
   "metadata": {},
   "outputs": [
    {
     "ename": "NameError",
     "evalue": "name 'string' is not defined",
     "output_type": "error",
     "traceback": [
      "\u001b[1;31m---------------------------------------------------------------------------\u001b[0m",
      "\u001b[1;31mNameError\u001b[0m                                 Traceback (most recent call last)",
      "\u001b[1;32m<ipython-input-15-ab18085b6bf3>\u001b[0m in \u001b[0;36m<module>\u001b[1;34m\u001b[0m\n\u001b[1;32m----> 1\u001b[1;33m \u001b[0mstring\u001b[0m\u001b[1;33m.\u001b[0m\u001b[0mjoin\u001b[0m\u001b[1;33m(\u001b[0m\u001b[1;33m[\u001b[0m\u001b[0ma\u001b[0m\u001b[1;33m]\u001b[0m\u001b[1;33m,\u001b[0m\u001b[1;34m''\u001b[0m\u001b[1;33m)\u001b[0m\u001b[1;33m\u001b[0m\u001b[1;33m\u001b[0m\u001b[0m\n\u001b[0m",
      "\u001b[1;31mNameError\u001b[0m: name 'string' is not defined"
     ]
    }
   ],
   "source": [
    "string.join([a],'')"
   ]
  },
  {
   "cell_type": "code",
   "execution_count": 21,
   "id": "7ff6bc6a",
   "metadata": {},
   "outputs": [
    {
     "name": "stdout",
     "output_type": "stream",
     "text": [
      "1\n",
      "thousand\n",
      "devils\n",
      "My\n",
      "name\n",
      "is\n",
      "9Pasha\n",
      "Room\n",
      "#125\n",
      "costs\n",
      "$100\n",
      "888\n"
     ]
    }
   ],
   "source": [
    "for i in l:\n",
    "    for j in i.split():\n",
    "        print(j)"
   ]
  },
  {
   "cell_type": "code",
   "execution_count": 11,
   "id": "467d43c0",
   "metadata": {},
   "outputs": [
    {
     "name": "stdout",
     "output_type": "stream",
     "text": [
      "1 5 2 7 1 9 3 8 5 9\n"
     ]
    }
   ],
   "source": [
    "lst = list(map(int,input().split()))"
   ]
  },
  {
   "cell_type": "code",
   "execution_count": 18,
   "id": "caa0fd4d",
   "metadata": {},
   "outputs": [],
   "source": [
    "m = sum(lst)/len(lst)"
   ]
  },
  {
   "cell_type": "code",
   "execution_count": 31,
   "id": "6bc1e762",
   "metadata": {},
   "outputs": [],
   "source": [
    "s = 0\n",
    "for i in lst:\n",
    "    s += (m - i)**2\n",
    "d = s / 9"
   ]
  },
  {
   "cell_type": "code",
   "execution_count": 32,
   "id": "7fdaa78a",
   "metadata": {},
   "outputs": [
    {
     "data": {
      "text/plain": [
       "90.0"
      ]
     },
     "execution_count": 32,
     "metadata": {},
     "output_type": "execute_result"
    }
   ],
   "source": [
    "s"
   ]
  },
  {
   "cell_type": "code",
   "execution_count": 33,
   "id": "f3eb5036",
   "metadata": {},
   "outputs": [
    {
     "data": {
      "text/plain": [
       "3.1622776601683795"
      ]
     },
     "execution_count": 33,
     "metadata": {},
     "output_type": "execute_result"
    }
   ],
   "source": [
    "d**0.5"
   ]
  },
  {
   "cell_type": "code",
   "execution_count": 23,
   "id": "db2c0973",
   "metadata": {},
   "outputs": [
    {
     "data": {
      "text/plain": [
       "5.0"
      ]
     },
     "execution_count": 23,
     "metadata": {},
     "output_type": "execute_result"
    }
   ],
   "source": [
    "m"
   ]
  },
  {
   "cell_type": "code",
   "execution_count": 35,
   "id": "e642b89f",
   "metadata": {},
   "outputs": [
    {
     "data": {
      "text/plain": [
       "9"
      ]
     },
     "execution_count": 35,
     "metadata": {},
     "output_type": "execute_result"
    }
   ],
   "source": [
    "len(lst)-1"
   ]
  },
  {
   "cell_type": "code",
   "execution_count": null,
   "id": "58e05149",
   "metadata": {},
   "outputs": [],
   "source": []
  }
 ],
 "metadata": {
  "kernelspec": {
   "display_name": "Python 3",
   "language": "python",
   "name": "python3"
  },
  "language_info": {
   "codemirror_mode": {
    "name": "ipython",
    "version": 3
   },
   "file_extension": ".py",
   "mimetype": "text/x-python",
   "name": "python",
   "nbconvert_exporter": "python",
   "pygments_lexer": "ipython3",
   "version": "3.8.8"
  }
 },
 "nbformat": 4,
 "nbformat_minor": 5
}
