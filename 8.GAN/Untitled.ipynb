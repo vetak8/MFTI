{
 "cells": [
  {
   "cell_type": "code",
   "execution_count": 1,
   "id": "de924ca2",
   "metadata": {},
   "outputs": [],
   "source": [
    "import os\n",
    "from torch.utils.data import DataLoader\n",
    "from torchvision.datasets import ImageFolder\n",
    "import torchvision.transforms as tt\n",
    "import torch\n",
    "import torch.nn as nn\n",
    "import torch.optim as optim\n",
    "import cv2\n",
    "from IPython.display import HTML\n",
    "import matplotlib.animation as animation\n",
    "from tqdm.notebook import tqdm\n",
    "from torchvision.utils import save_image\n",
    "from torchvision.utils import make_grid\n",
    "import torchvision.utils as vutils\n",
    "import numpy as np\n",
    "import matplotlib.pyplot as plt\n",
    "import seaborn as sns\n",
    "%matplotlib inline\n",
    "\n",
    "sns.set(style='darkgrid', font_scale=1.2)"
   ]
  },
  {
   "cell_type": "code",
   "execution_count": 2,
   "id": "957aa44f",
   "metadata": {},
   "outputs": [
    {
     "data": {
      "text/plain": [
       "'cuda'"
      ]
     },
     "execution_count": 2,
     "metadata": {},
     "output_type": "execute_result"
    }
   ],
   "source": [
    "device = 'cuda' if torch.cuda.is_available() else 'cpu'\n",
    "device"
   ]
  },
  {
   "cell_type": "code",
   "execution_count": 3,
   "id": "12931688",
   "metadata": {},
   "outputs": [],
   "source": [
    "latent_size = 64"
   ]
  },
  {
   "cell_type": "code",
   "execution_count": 4,
   "id": "d6df330d",
   "metadata": {},
   "outputs": [],
   "source": [
    "def get_dataloader(image_size, batch_size):\n",
    "\n",
    "    root = 'D:/faces/'\n",
    "    stats = (0.5, 0.5, 0.5), (0.5, 0.5, 0.5)\n",
    "    dataset = ImageFolder(root, transform=tt.Compose([\n",
    "        tt.Resize(image_size),\n",
    "        tt.RandomHorizontalFlip(p=0.5),\n",
    "        tt.ToTensor(),\n",
    "        tt.Normalize(*stats)\n",
    "    ]))\n",
    "\n",
    "    dataloader = DataLoader(dataset, batch_size, num_workers=4, pin_memory=True)\n",
    "\n",
    "#   \"\"\"\n",
    "#   Builds dataloader for training data.\n",
    "#   Use tt.Compose and tt.Resize for transformations\n",
    "#   :param image_size: height and wdith of the image\n",
    "#   :param batch_size: batch_size of the dataloader\n",
    "#   :returns: DataLoader object \n",
    "#   \"\"\"\n",
    "    return dataloader\n",
    "  # TODO: resize images, convert them to tensors and build dataloader"
   ]
  },
  {
   "cell_type": "code",
   "execution_count": 5,
   "id": "93c85126",
   "metadata": {},
   "outputs": [],
   "source": [
    "image_size = 64\n",
    "batch_size = 64"
   ]
  },
  {
   "cell_type": "code",
   "execution_count": 6,
   "id": "889e97ab",
   "metadata": {},
   "outputs": [],
   "source": [
    "class Generator(nn.Module):\n",
    "    def __init__(self,):\n",
    "        super(Generator, self).__init__()\n",
    "#         self.ngpu = ngpu\n",
    "        self.main = nn.Sequential(\n",
    "        # in latent_size  x 1 x 1\n",
    "\n",
    "        # out = (in - 1) x stride(1) - 2 x padding(0) + dilation(1) x (kernel(6) - 1) + output_padding + 1\n",
    "\n",
    "        nn.ConvTranspose2d(latent_size, 256, kernel_size=6,\n",
    "                           stride=1, padding=0, bias=False), # (1-1)x1 - 2x0 + 1x5 + 0 +1 = 6\n",
    "        # out 256 x 6 x 6\n",
    "        nn.BatchNorm2d(256),\n",
    "        nn.ReLU(True),\n",
    "        nn.UpsamplingBilinear2d(scale_factor=4), \n",
    "        # out 6 x 4 = 24\n",
    "        nn.Conv2d(256, 256 , kernel_size=2, stride=3 , padding=1),  # (24 - 2 + 2)/ 3 +1 = 9\n",
    "        nn.BatchNorm2d(256),\n",
    "        nn.ReLU(True),\n",
    "        # out 256 x 9 x 9\n",
    "\n",
    "        nn.UpsamplingBilinear2d(scale_factor=4),\n",
    "        # 9 x 4 = 36\n",
    "        nn.Conv2d(256, 128, kernel_size=6, stride=2, padding=0, bias=False), # (36 - 6 + 0)/ 2 +1 = 16\n",
    "        nn.BatchNorm2d(128),\n",
    "        nn.ReLU(True),\n",
    "        # 128 x 16 x 16\n",
    "\n",
    "        nn.UpsamplingBilinear2d(scale_factor=4),\n",
    "        # 16 x 4 = 64\n",
    "        nn.Conv2d(128, 64, kernel_size=4, stride=2, padding=1, bias=False), # (64 - 4 + 2)/ 2 +1 = 32\n",
    "        nn.BatchNorm2d(64),\n",
    "        nn.ReLU(True),\n",
    "        # 64 x 32 x 32\n",
    "\n",
    "        nn.UpsamplingBilinear2d(scale_factor=4),\n",
    "        # 32 x 4 = 128\n",
    "        nn.Conv2d(64, 64, kernel_size=4, stride=2, padding=1, bias=False), # (128 - 4 + 2)/ 2 +1 = 64\n",
    "        nn.BatchNorm2d(64),\n",
    "        nn.ReLU(True),\n",
    "        # 64 x 64 x 64\n",
    "\n",
    "        nn.UpsamplingBilinear2d(scale_factor=2),\n",
    "        # 64 x 2 = 128\n",
    "        nn.Conv2d(64, 32, kernel_size=4, stride=2, padding=1, bias=False), # (128 - 4 + 2)/ 2 +1 = 64\n",
    "        nn.BatchNorm2d(32),\n",
    "        nn.ReLU(True),\n",
    "        # 32 x 64 x 64\n",
    "\n",
    "#         nn.UpsamplingBilinear2d(scale_factor=4),\n",
    "#         # 64 x 2 = 128\n",
    "#         nn.Conv2d(32, 16, kernel_size=2, stride=2, padding=1, bias=False), # (128 - 4 + 2)/ 2 +1 = 64\n",
    "#         nn.BatchNorm2d(16),\n",
    "#         nn.ReLU(True),\n",
    "#         # 16 x 64 x 64\n",
    "\n",
    "        nn.ConvTranspose2d(32, 3, kernel_size=1, stride=1, padding=0, bias=False), # (63x1 - 0 + 1x(1-1) + 0 +1 = 64\n",
    "        nn.Tanh()\n",
    "        # out: 3 x 64 x 64\n",
    "\n",
    "\n",
    "    )\n",
    "\n",
    "    def forward(self, input):\n",
    "        return self.main(input)"
   ]
  },
  {
   "cell_type": "code",
   "execution_count": 7,
   "id": "1632e3c2",
   "metadata": {},
   "outputs": [],
   "source": [
    "class Discriminator(nn.Module):\n",
    "    def __init__(self):\n",
    "        super(Discriminator, self).__init__()\n",
    "        self.main = nn.Sequential(\n",
    "        # in 3 x 128 x 128\n",
    "\n",
    "        nn.Conv2d(3, 256 , kernel_size=2, stride=2, padding=2, bias=False), # (64 - 2 + 4)/3  +1 = 34\n",
    "        nn.BatchNorm2d(256),\n",
    "        nn.ReLU(),  \n",
    "\n",
    "        # out 256 x 34 x 34\n",
    "\n",
    "        nn.Conv2d(256, 512, kernel_size=2, stride=3, padding=2, bias=False), # (34 - 2 + 4 )/ 3 +1 = 13\n",
    "        nn.BatchNorm2d(512),\n",
    "        nn.ReLU(), \n",
    "\n",
    "        #out 512 x 13 x 13\n",
    "\n",
    "        nn.Conv2d(512, 512, kernel_size=3, stride=3, padding=1, bias=False), # (13 - 3 + 2 )/ 3 +1 = 5\n",
    "        nn.BatchNorm2d(512),\n",
    "        nn.ReLU(), \n",
    "\n",
    "        #out 512 x 5 x 5\n",
    "\n",
    "        nn.Conv2d(512, 1 , kernel_size=5, stride=1 , padding=0, bias=False), # (5-5+0 )/1 +1 = 1\n",
    "\n",
    "        # out 1 x 1 x 1\n",
    "#         nn.Flatten(),\n",
    "        nn.Sigmoid()\n",
    "    )\n",
    "    def forward(self, input):\n",
    "        return self.main(input)"
   ]
  },
  {
   "cell_type": "code",
   "execution_count": 8,
   "id": "b8641907",
   "metadata": {},
   "outputs": [],
   "source": [
    "model_G = torch.load('./generator').to('cpu')\n",
    "model_D = torch.load('./diskriminator').to('cpu')"
   ]
  },
  {
   "cell_type": "code",
   "execution_count": 9,
   "id": "cb181909",
   "metadata": {},
   "outputs": [],
   "source": [
    "n_images = 100\n",
    "\n",
    "noise = torch.randn(n_images, latent_size, 1, 1, device='cpu')"
   ]
  },
  {
   "cell_type": "code",
   "execution_count": 10,
   "id": "f5320c58",
   "metadata": {
    "scrolled": true
   },
   "outputs": [],
   "source": [
    "# fig = plt.figure(figsize=(8,8))\n",
    "# plt.axis(\"off\")\n",
    "# plt.imshow((model_G(noise)[-5].detach().cpu().numpy().reshape(64,64,3)))\n",
    "# plt.show();"
   ]
  },
  {
   "cell_type": "code",
   "execution_count": 16,
   "id": "9e30e33f",
   "metadata": {},
   "outputs": [
    {
     "data": {
      "text/plain": [
       "array([0., 0., 0., 0., 0., 0., 0., 0., 0., 0., 0., 0., 0., 0., 0., 0., 0.,\n",
       "       0., 0., 0., 0., 0., 0., 0., 0., 0., 0., 0., 0., 0., 0., 0., 0., 0.,\n",
       "       0., 0., 0., 0., 0., 0., 0., 0., 0., 0., 0., 0., 0., 0., 0., 0., 0.,\n",
       "       0., 0., 0., 0., 0., 0., 0., 0., 0., 0., 0., 0., 0., 0., 0., 0., 0.,\n",
       "       0., 0., 0., 0., 0., 0., 0., 0., 0., 0., 0., 0., 0., 0., 0., 0., 0.,\n",
       "       0., 0., 0., 0., 0., 0., 0., 0., 0., 0., 0., 0., 0., 0., 0.])"
      ]
     },
     "execution_count": 16,
     "metadata": {},
     "output_type": "execute_result"
    }
   ],
   "source": []
  },
  {
   "cell_type": "code",
   "execution_count": 18,
   "id": "127d885c",
   "metadata": {
    "scrolled": true
   },
   "outputs": [],
   "source": [
    "X_fake = model_G(noise)\n",
    "y_fake = np.zeros(n_images)"
   ]
  },
  {
   "cell_type": "code",
   "execution_count": null,
   "id": "1a801c1a",
   "metadata": {},
   "outputs": [],
   "source": []
  },
  {
   "cell_type": "code",
   "execution_count": 12,
   "id": "f6afc0cb",
   "metadata": {
    "scrolled": true
   },
   "outputs": [
    {
     "ename": "NameError",
     "evalue": "name 'n' is not defined",
     "output_type": "error",
     "traceback": [
      "\u001b[1;31m---------------------------------------------------------------------------\u001b[0m",
      "\u001b[1;31mNameError\u001b[0m                                 Traceback (most recent call last)",
      "\u001b[1;32m~\\AppData\\Local\\Temp/ipykernel_11172/4220587440.py\u001b[0m in \u001b[0;36m<module>\u001b[1;34m\u001b[0m\n\u001b[0;32m      2\u001b[0m \u001b[1;33m\u001b[0m\u001b[0m\n\u001b[0;32m      3\u001b[0m \u001b[1;32mwith\u001b[0m \u001b[0mtorch\u001b[0m\u001b[1;33m.\u001b[0m\u001b[0mno_grad\u001b[0m\u001b[1;33m(\u001b[0m\u001b[1;33m)\u001b[0m\u001b[1;33m:\u001b[0m\u001b[1;33m\u001b[0m\u001b[1;33m\u001b[0m\u001b[0m\n\u001b[1;32m----> 4\u001b[1;33m     \u001b[0mprint\u001b[0m\u001b[1;33m(\u001b[0m\u001b[0mn\u001b[0m\u001b[1;33m)\u001b[0m\u001b[1;33m\u001b[0m\u001b[1;33m\u001b[0m\u001b[0m\n\u001b[0m\u001b[0;32m      5\u001b[0m     \u001b[0mfake\u001b[0m \u001b[1;33m=\u001b[0m \u001b[0mmodel_G\u001b[0m\u001b[1;33m(\u001b[0m\u001b[0mn\u001b[0m\u001b[1;33m)\u001b[0m\u001b[1;33m.\u001b[0m\u001b[0mdetach\u001b[0m\u001b[1;33m(\u001b[0m\u001b[1;33m)\u001b[0m\u001b[1;33m.\u001b[0m\u001b[0mcpu\u001b[0m\u001b[1;33m(\u001b[0m\u001b[1;33m)\u001b[0m\u001b[1;33m\u001b[0m\u001b[1;33m\u001b[0m\u001b[0m\n\u001b[0;32m      6\u001b[0m \u001b[0mfake_list\u001b[0m\u001b[1;33m.\u001b[0m\u001b[0mappend\u001b[0m\u001b[1;33m(\u001b[0m\u001b[0mvutils\u001b[0m\u001b[1;33m.\u001b[0m\u001b[0mmake_grid\u001b[0m\u001b[1;33m(\u001b[0m\u001b[0mfake\u001b[0m\u001b[1;33m,\u001b[0m \u001b[0mpadding\u001b[0m\u001b[1;33m=\u001b[0m\u001b[1;36m2\u001b[0m\u001b[1;33m,\u001b[0m \u001b[0mnormalize\u001b[0m\u001b[1;33m=\u001b[0m\u001b[1;32mTrue\u001b[0m\u001b[1;33m)\u001b[0m\u001b[1;33m)\u001b[0m\u001b[1;33m\u001b[0m\u001b[1;33m\u001b[0m\u001b[0m\n",
      "\u001b[1;31mNameError\u001b[0m: name 'n' is not defined"
     ]
    }
   ],
   "source": [
    "fake_list = []\n",
    "     \n",
    "with torch.no_grad():\n",
    "    print(n)\n",
    "    fake = model_G(n).detach().cpu()\n",
    "fake_list.append(vutils.make_grid(fake, padding=2, normalize=True))\n",
    "    "
   ]
  },
  {
   "cell_type": "code",
   "execution_count": null,
   "id": "53a0ed89",
   "metadata": {},
   "outputs": [],
   "source": [
    "plt.figure(figsize=(10,10))\n",
    "plt.imshow(model_G(noise)[7].detach().cpu().numpy().reshape(64,64,3))\n",
    "plt.show()"
   ]
  },
  {
   "cell_type": "code",
   "execution_count": null,
   "id": "33fb0e81",
   "metadata": {},
   "outputs": [],
   "source": []
  }
 ],
 "metadata": {
  "kernelspec": {
   "display_name": "Python 3 (ipykernel)",
   "language": "python",
   "name": "python3"
  },
  "language_info": {
   "codemirror_mode": {
    "name": "ipython",
    "version": 3
   },
   "file_extension": ".py",
   "mimetype": "text/x-python",
   "name": "python",
   "nbconvert_exporter": "python",
   "pygments_lexer": "ipython3",
   "version": "3.9.7"
  }
 },
 "nbformat": 4,
 "nbformat_minor": 5
}
